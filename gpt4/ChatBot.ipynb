{
 "cells": [
  {
   "cell_type": "markdown",
   "id": "564bca8e",
   "metadata": {},
   "source": [
    "# Install dependencies"
   ]
  },
  {
   "cell_type": "code",
   "execution_count": 80,
   "id": "9b1d3b80",
   "metadata": {},
   "outputs": [
    {
     "name": "stderr",
     "output_type": "stream",
     "text": [
      "huggingface/tokenizers: The current process just got forked, after parallelism has already been used. Disabling parallelism to avoid deadlocks...\n",
      "To disable this warning, you can either:\n",
      "\t- Avoid using `tokenizers` before the fork if possible\n",
      "\t- Explicitly set the environment variable TOKENIZERS_PARALLELISM=(true | false)\n"
     ]
    },
    {
     "name": "stdout",
     "output_type": "stream",
     "text": [
      "Requirement already satisfied: langchain in /Users/davronbekdev/Desktop/Dasturlash/PythonProjects/AgroGPT/RagChatBot/venv/lib/python3.9/site-packages (0.1.0)\n",
      "Requirement already satisfied: openai in /Users/davronbekdev/Desktop/Dasturlash/PythonProjects/AgroGPT/RagChatBot/venv/lib/python3.9/site-packages (0.28.0)\n",
      "Requirement already satisfied: faiss-cpu in /Users/davronbekdev/Desktop/Dasturlash/PythonProjects/AgroGPT/RagChatBot/venv/lib/python3.9/site-packages (1.11.0)\n",
      "Requirement already satisfied: tiktoken in /Users/davronbekdev/Desktop/Dasturlash/PythonProjects/AgroGPT/RagChatBot/venv/lib/python3.9/site-packages (0.5.2)\n",
      "Requirement already satisfied: sentence-transformers in /Users/davronbekdev/Desktop/Dasturlash/PythonProjects/AgroGPT/RagChatBot/venv/lib/python3.9/site-packages (4.1.0)\n",
      "Requirement already satisfied: PyMuPDF in /Users/davronbekdev/Desktop/Dasturlash/PythonProjects/AgroGPT/RagChatBot/venv/lib/python3.9/site-packages (1.26.1)\n",
      "Requirement already satisfied: ipywidgets in /Users/davronbekdev/Desktop/Dasturlash/PythonProjects/AgroGPT/RagChatBot/venv/lib/python3.9/site-packages (8.1.7)\n",
      "Collecting deep-translator\n",
      "  Downloading deep_translator-1.11.4-py3-none-any.whl (42 kB)\n",
      "\u001b[K     |████████████████████████████████| 42 kB 363 kB/s eta 0:00:01\n",
      "\u001b[?25hRequirement already satisfied: async-timeout<5.0.0,>=4.0.0 in /Users/davronbekdev/Desktop/Dasturlash/PythonProjects/AgroGPT/RagChatBot/venv/lib/python3.9/site-packages (from langchain) (4.0.3)\n",
      "Requirement already satisfied: requests<3,>=2 in /Users/davronbekdev/Desktop/Dasturlash/PythonProjects/AgroGPT/RagChatBot/venv/lib/python3.9/site-packages (from langchain) (2.31.0)\n",
      "Requirement already satisfied: jsonpatch<2.0,>=1.33 in /Users/davronbekdev/Desktop/Dasturlash/PythonProjects/AgroGPT/RagChatBot/venv/lib/python3.9/site-packages (from langchain) (1.33)\n",
      "Requirement already satisfied: PyYAML>=5.3 in /Users/davronbekdev/Desktop/Dasturlash/PythonProjects/AgroGPT/RagChatBot/venv/lib/python3.9/site-packages (from langchain) (6.0.2)\n",
      "Requirement already satisfied: langchain-community<0.1,>=0.0.9 in /Users/davronbekdev/Desktop/Dasturlash/PythonProjects/AgroGPT/RagChatBot/venv/lib/python3.9/site-packages (from langchain) (0.0.20)\n",
      "Requirement already satisfied: pydantic<3,>=1 in /Users/davronbekdev/Desktop/Dasturlash/PythonProjects/AgroGPT/RagChatBot/venv/lib/python3.9/site-packages (from langchain) (2.11.7)\n",
      "Requirement already satisfied: numpy<2,>=1 in /Users/davronbekdev/Desktop/Dasturlash/PythonProjects/AgroGPT/RagChatBot/venv/lib/python3.9/site-packages (from langchain) (1.26.4)\n",
      "Requirement already satisfied: langchain-core<0.2,>=0.1.7 in /Users/davronbekdev/Desktop/Dasturlash/PythonProjects/AgroGPT/RagChatBot/venv/lib/python3.9/site-packages (from langchain) (0.1.23)\n",
      "Requirement already satisfied: tenacity<9.0.0,>=8.1.0 in /Users/davronbekdev/Desktop/Dasturlash/PythonProjects/AgroGPT/RagChatBot/venv/lib/python3.9/site-packages (from langchain) (8.5.0)\n",
      "Requirement already satisfied: SQLAlchemy<3,>=1.4 in /Users/davronbekdev/Desktop/Dasturlash/PythonProjects/AgroGPT/RagChatBot/venv/lib/python3.9/site-packages (from langchain) (2.0.41)\n",
      "Requirement already satisfied: langsmith<0.1.0,>=0.0.77 in /Users/davronbekdev/Desktop/Dasturlash/PythonProjects/AgroGPT/RagChatBot/venv/lib/python3.9/site-packages (from langchain) (0.0.87)\n",
      "Requirement already satisfied: dataclasses-json<0.7,>=0.5.7 in /Users/davronbekdev/Desktop/Dasturlash/PythonProjects/AgroGPT/RagChatBot/venv/lib/python3.9/site-packages (from langchain) (0.6.7)\n",
      "Requirement already satisfied: aiohttp<4.0.0,>=3.8.3 in /Users/davronbekdev/Desktop/Dasturlash/PythonProjects/AgroGPT/RagChatBot/venv/lib/python3.9/site-packages (from langchain) (3.12.13)\n",
      "Requirement already satisfied: tqdm in /Users/davronbekdev/Desktop/Dasturlash/PythonProjects/AgroGPT/RagChatBot/venv/lib/python3.9/site-packages (from openai) (4.67.1)\n",
      "Requirement already satisfied: packaging in /Users/davronbekdev/Desktop/Dasturlash/PythonProjects/AgroGPT/RagChatBot/venv/lib/python3.9/site-packages (from faiss-cpu) (23.2)\n",
      "Requirement already satisfied: regex>=2022.1.18 in /Users/davronbekdev/Desktop/Dasturlash/PythonProjects/AgroGPT/RagChatBot/venv/lib/python3.9/site-packages (from tiktoken) (2024.11.6)\n",
      "Requirement already satisfied: scipy in /Users/davronbekdev/Desktop/Dasturlash/PythonProjects/AgroGPT/RagChatBot/venv/lib/python3.9/site-packages (from sentence-transformers) (1.13.1)\n",
      "Requirement already satisfied: transformers<5.0.0,>=4.41.0 in /Users/davronbekdev/Desktop/Dasturlash/PythonProjects/AgroGPT/RagChatBot/venv/lib/python3.9/site-packages (from sentence-transformers) (4.53.0)\n",
      "Requirement already satisfied: typing_extensions>=4.5.0 in /Users/davronbekdev/Desktop/Dasturlash/PythonProjects/AgroGPT/RagChatBot/venv/lib/python3.9/site-packages (from sentence-transformers) (4.14.0)\n",
      "Requirement already satisfied: huggingface-hub>=0.20.0 in /Users/davronbekdev/Desktop/Dasturlash/PythonProjects/AgroGPT/RagChatBot/venv/lib/python3.9/site-packages (from sentence-transformers) (0.33.1)\n",
      "Requirement already satisfied: Pillow in /Users/davronbekdev/Desktop/Dasturlash/PythonProjects/AgroGPT/RagChatBot/venv/lib/python3.9/site-packages (from sentence-transformers) (10.4.0)\n",
      "Requirement already satisfied: scikit-learn in /Users/davronbekdev/Desktop/Dasturlash/PythonProjects/AgroGPT/RagChatBot/venv/lib/python3.9/site-packages (from sentence-transformers) (1.6.1)\n",
      "Requirement already satisfied: torch>=1.11.0 in /Users/davronbekdev/Desktop/Dasturlash/PythonProjects/AgroGPT/RagChatBot/venv/lib/python3.9/site-packages (from sentence-transformers) (2.7.1)\n",
      "Requirement already satisfied: traitlets>=4.3.1 in /Users/davronbekdev/Desktop/Dasturlash/PythonProjects/AgroGPT/RagChatBot/venv/lib/python3.9/site-packages (from ipywidgets) (5.14.3)\n",
      "Requirement already satisfied: widgetsnbextension~=4.0.14 in /Users/davronbekdev/Desktop/Dasturlash/PythonProjects/AgroGPT/RagChatBot/venv/lib/python3.9/site-packages (from ipywidgets) (4.0.14)\n",
      "Requirement already satisfied: ipython>=6.1.0 in /Users/davronbekdev/Desktop/Dasturlash/PythonProjects/AgroGPT/RagChatBot/venv/lib/python3.9/site-packages (from ipywidgets) (8.18.1)\n",
      "Requirement already satisfied: comm>=0.1.3 in /Users/davronbekdev/Desktop/Dasturlash/PythonProjects/AgroGPT/RagChatBot/venv/lib/python3.9/site-packages (from ipywidgets) (0.2.2)\n",
      "Requirement already satisfied: jupyterlab_widgets~=3.0.15 in /Users/davronbekdev/Desktop/Dasturlash/PythonProjects/AgroGPT/RagChatBot/venv/lib/python3.9/site-packages (from ipywidgets) (3.0.15)\n",
      "Requirement already satisfied: beautifulsoup4<5.0.0,>=4.9.1 in /Users/davronbekdev/Desktop/Dasturlash/PythonProjects/AgroGPT/RagChatBot/venv/lib/python3.9/site-packages (from deep-translator) (4.12.2)\n",
      "Requirement already satisfied: yarl<2.0,>=1.17.0 in /Users/davronbekdev/Desktop/Dasturlash/PythonProjects/AgroGPT/RagChatBot/venv/lib/python3.9/site-packages (from aiohttp<4.0.0,>=3.8.3->langchain) (1.20.1)\n",
      "Requirement already satisfied: frozenlist>=1.1.1 in /Users/davronbekdev/Desktop/Dasturlash/PythonProjects/AgroGPT/RagChatBot/venv/lib/python3.9/site-packages (from aiohttp<4.0.0,>=3.8.3->langchain) (1.7.0)\n",
      "Requirement already satisfied: propcache>=0.2.0 in /Users/davronbekdev/Desktop/Dasturlash/PythonProjects/AgroGPT/RagChatBot/venv/lib/python3.9/site-packages (from aiohttp<4.0.0,>=3.8.3->langchain) (0.3.2)\n",
      "Requirement already satisfied: multidict<7.0,>=4.5 in /Users/davronbekdev/Desktop/Dasturlash/PythonProjects/AgroGPT/RagChatBot/venv/lib/python3.9/site-packages (from aiohttp<4.0.0,>=3.8.3->langchain) (6.6.2)\n",
      "Requirement already satisfied: aiosignal>=1.1.2 in /Users/davronbekdev/Desktop/Dasturlash/PythonProjects/AgroGPT/RagChatBot/venv/lib/python3.9/site-packages (from aiohttp<4.0.0,>=3.8.3->langchain) (1.3.2)\n",
      "Requirement already satisfied: aiohappyeyeballs>=2.5.0 in /Users/davronbekdev/Desktop/Dasturlash/PythonProjects/AgroGPT/RagChatBot/venv/lib/python3.9/site-packages (from aiohttp<4.0.0,>=3.8.3->langchain) (2.6.1)\n",
      "Requirement already satisfied: attrs>=17.3.0 in /Users/davronbekdev/Desktop/Dasturlash/PythonProjects/AgroGPT/RagChatBot/venv/lib/python3.9/site-packages (from aiohttp<4.0.0,>=3.8.3->langchain) (25.3.0)\n",
      "Requirement already satisfied: soupsieve>1.2 in /Users/davronbekdev/Desktop/Dasturlash/PythonProjects/AgroGPT/RagChatBot/venv/lib/python3.9/site-packages (from beautifulsoup4<5.0.0,>=4.9.1->deep-translator) (2.7)\n",
      "Requirement already satisfied: marshmallow<4.0.0,>=3.18.0 in /Users/davronbekdev/Desktop/Dasturlash/PythonProjects/AgroGPT/RagChatBot/venv/lib/python3.9/site-packages (from dataclasses-json<0.7,>=0.5.7->langchain) (3.26.1)\n",
      "Requirement already satisfied: typing-inspect<1,>=0.4.0 in /Users/davronbekdev/Desktop/Dasturlash/PythonProjects/AgroGPT/RagChatBot/venv/lib/python3.9/site-packages (from dataclasses-json<0.7,>=0.5.7->langchain) (0.9.0)\n",
      "Requirement already satisfied: hf-xet<2.0.0,>=1.1.2 in /Users/davronbekdev/Desktop/Dasturlash/PythonProjects/AgroGPT/RagChatBot/venv/lib/python3.9/site-packages (from huggingface-hub>=0.20.0->sentence-transformers) (1.1.5)\n",
      "Requirement already satisfied: fsspec>=2023.5.0 in /Users/davronbekdev/Desktop/Dasturlash/PythonProjects/AgroGPT/RagChatBot/venv/lib/python3.9/site-packages (from huggingface-hub>=0.20.0->sentence-transformers) (2025.5.1)\n",
      "Requirement already satisfied: filelock in /Users/davronbekdev/Desktop/Dasturlash/PythonProjects/AgroGPT/RagChatBot/venv/lib/python3.9/site-packages (from huggingface-hub>=0.20.0->sentence-transformers) (3.18.0)\n",
      "Requirement already satisfied: prompt-toolkit<3.1.0,>=3.0.41 in /Users/davronbekdev/Desktop/Dasturlash/PythonProjects/AgroGPT/RagChatBot/venv/lib/python3.9/site-packages (from ipython>=6.1.0->ipywidgets) (3.0.51)\n",
      "Requirement already satisfied: matplotlib-inline in /Users/davronbekdev/Desktop/Dasturlash/PythonProjects/AgroGPT/RagChatBot/venv/lib/python3.9/site-packages (from ipython>=6.1.0->ipywidgets) (0.1.7)\n",
      "Requirement already satisfied: decorator in /Users/davronbekdev/Desktop/Dasturlash/PythonProjects/AgroGPT/RagChatBot/venv/lib/python3.9/site-packages (from ipython>=6.1.0->ipywidgets) (5.2.1)\n",
      "Requirement already satisfied: stack-data in /Users/davronbekdev/Desktop/Dasturlash/PythonProjects/AgroGPT/RagChatBot/venv/lib/python3.9/site-packages (from ipython>=6.1.0->ipywidgets) (0.6.3)\n",
      "Requirement already satisfied: pexpect>4.3 in /Users/davronbekdev/Desktop/Dasturlash/PythonProjects/AgroGPT/RagChatBot/venv/lib/python3.9/site-packages (from ipython>=6.1.0->ipywidgets) (4.9.0)\n",
      "Requirement already satisfied: pygments>=2.4.0 in /Users/davronbekdev/Desktop/Dasturlash/PythonProjects/AgroGPT/RagChatBot/venv/lib/python3.9/site-packages (from ipython>=6.1.0->ipywidgets) (2.19.2)\n",
      "Requirement already satisfied: jedi>=0.16 in /Users/davronbekdev/Desktop/Dasturlash/PythonProjects/AgroGPT/RagChatBot/venv/lib/python3.9/site-packages (from ipython>=6.1.0->ipywidgets) (0.19.2)\n",
      "Requirement already satisfied: exceptiongroup in /Users/davronbekdev/Desktop/Dasturlash/PythonProjects/AgroGPT/RagChatBot/venv/lib/python3.9/site-packages (from ipython>=6.1.0->ipywidgets) (1.3.0)\n",
      "Requirement already satisfied: parso<0.9.0,>=0.8.4 in /Users/davronbekdev/Desktop/Dasturlash/PythonProjects/AgroGPT/RagChatBot/venv/lib/python3.9/site-packages (from jedi>=0.16->ipython>=6.1.0->ipywidgets) (0.8.4)\n",
      "Requirement already satisfied: jsonpointer>=1.9 in /Users/davronbekdev/Desktop/Dasturlash/PythonProjects/AgroGPT/RagChatBot/venv/lib/python3.9/site-packages (from jsonpatch<2.0,>=1.33->langchain) (3.0.0)\n",
      "Requirement already satisfied: anyio<5,>=3 in /Users/davronbekdev/Desktop/Dasturlash/PythonProjects/AgroGPT/RagChatBot/venv/lib/python3.9/site-packages (from langchain-core<0.2,>=0.1.7->langchain) (4.9.0)\n",
      "Requirement already satisfied: idna>=2.8 in /Users/davronbekdev/Desktop/Dasturlash/PythonProjects/AgroGPT/RagChatBot/venv/lib/python3.9/site-packages (from anyio<5,>=3->langchain-core<0.2,>=0.1.7->langchain) (3.10)\n",
      "Requirement already satisfied: sniffio>=1.1 in /Users/davronbekdev/Desktop/Dasturlash/PythonProjects/AgroGPT/RagChatBot/venv/lib/python3.9/site-packages (from anyio<5,>=3->langchain-core<0.2,>=0.1.7->langchain) (1.3.1)\n",
      "Requirement already satisfied: ptyprocess>=0.5 in /Users/davronbekdev/Desktop/Dasturlash/PythonProjects/AgroGPT/RagChatBot/venv/lib/python3.9/site-packages (from pexpect>4.3->ipython>=6.1.0->ipywidgets) (0.7.0)\n",
      "Requirement already satisfied: wcwidth in /Users/davronbekdev/Desktop/Dasturlash/PythonProjects/AgroGPT/RagChatBot/venv/lib/python3.9/site-packages (from prompt-toolkit<3.1.0,>=3.0.41->ipython>=6.1.0->ipywidgets) (0.2.13)\n",
      "Requirement already satisfied: typing-inspection>=0.4.0 in /Users/davronbekdev/Desktop/Dasturlash/PythonProjects/AgroGPT/RagChatBot/venv/lib/python3.9/site-packages (from pydantic<3,>=1->langchain) (0.4.1)\n",
      "Requirement already satisfied: pydantic-core==2.33.2 in /Users/davronbekdev/Desktop/Dasturlash/PythonProjects/AgroGPT/RagChatBot/venv/lib/python3.9/site-packages (from pydantic<3,>=1->langchain) (2.33.2)\n",
      "Requirement already satisfied: annotated-types>=0.6.0 in /Users/davronbekdev/Desktop/Dasturlash/PythonProjects/AgroGPT/RagChatBot/venv/lib/python3.9/site-packages (from pydantic<3,>=1->langchain) (0.7.0)\n",
      "Requirement already satisfied: charset-normalizer<4,>=2 in /Users/davronbekdev/Desktop/Dasturlash/PythonProjects/AgroGPT/RagChatBot/venv/lib/python3.9/site-packages (from requests<3,>=2->langchain) (3.4.2)\n",
      "Requirement already satisfied: certifi>=2017.4.17 in /Users/davronbekdev/Desktop/Dasturlash/PythonProjects/AgroGPT/RagChatBot/venv/lib/python3.9/site-packages (from requests<3,>=2->langchain) (2025.6.15)\n",
      "Requirement already satisfied: urllib3<3,>=1.21.1 in /Users/davronbekdev/Desktop/Dasturlash/PythonProjects/AgroGPT/RagChatBot/venv/lib/python3.9/site-packages (from requests<3,>=2->langchain) (2.5.0)\n",
      "Requirement already satisfied: networkx in /Users/davronbekdev/Desktop/Dasturlash/PythonProjects/AgroGPT/RagChatBot/venv/lib/python3.9/site-packages (from torch>=1.11.0->sentence-transformers) (3.2.1)\n",
      "Requirement already satisfied: jinja2 in /Users/davronbekdev/Desktop/Dasturlash/PythonProjects/AgroGPT/RagChatBot/venv/lib/python3.9/site-packages (from torch>=1.11.0->sentence-transformers) (3.1.6)\n",
      "Requirement already satisfied: sympy>=1.13.3 in /Users/davronbekdev/Desktop/Dasturlash/PythonProjects/AgroGPT/RagChatBot/venv/lib/python3.9/site-packages (from torch>=1.11.0->sentence-transformers) (1.14.0)\n",
      "Requirement already satisfied: mpmath<1.4,>=1.1.0 in /Users/davronbekdev/Desktop/Dasturlash/PythonProjects/AgroGPT/RagChatBot/venv/lib/python3.9/site-packages (from sympy>=1.13.3->torch>=1.11.0->sentence-transformers) (1.3.0)\n",
      "Requirement already satisfied: tokenizers<0.22,>=0.21 in /Users/davronbekdev/Desktop/Dasturlash/PythonProjects/AgroGPT/RagChatBot/venv/lib/python3.9/site-packages (from transformers<5.0.0,>=4.41.0->sentence-transformers) (0.21.2)\n",
      "Requirement already satisfied: safetensors>=0.4.3 in /Users/davronbekdev/Desktop/Dasturlash/PythonProjects/AgroGPT/RagChatBot/venv/lib/python3.9/site-packages (from transformers<5.0.0,>=4.41.0->sentence-transformers) (0.5.3)\n",
      "Requirement already satisfied: mypy-extensions>=0.3.0 in /Users/davronbekdev/Desktop/Dasturlash/PythonProjects/AgroGPT/RagChatBot/venv/lib/python3.9/site-packages (from typing-inspect<1,>=0.4.0->dataclasses-json<0.7,>=0.5.7->langchain) (1.1.0)\n",
      "Requirement already satisfied: MarkupSafe>=2.0 in /Users/davronbekdev/Desktop/Dasturlash/PythonProjects/AgroGPT/RagChatBot/venv/lib/python3.9/site-packages (from jinja2->torch>=1.11.0->sentence-transformers) (3.0.2)\n",
      "Requirement already satisfied: threadpoolctl>=3.1.0 in /Users/davronbekdev/Desktop/Dasturlash/PythonProjects/AgroGPT/RagChatBot/venv/lib/python3.9/site-packages (from scikit-learn->sentence-transformers) (3.6.0)\n",
      "Requirement already satisfied: joblib>=1.2.0 in /Users/davronbekdev/Desktop/Dasturlash/PythonProjects/AgroGPT/RagChatBot/venv/lib/python3.9/site-packages (from scikit-learn->sentence-transformers) (1.5.1)\n",
      "Requirement already satisfied: executing>=1.2.0 in /Users/davronbekdev/Desktop/Dasturlash/PythonProjects/AgroGPT/RagChatBot/venv/lib/python3.9/site-packages (from stack-data->ipython>=6.1.0->ipywidgets) (2.2.0)\n",
      "Requirement already satisfied: asttokens>=2.1.0 in /Users/davronbekdev/Desktop/Dasturlash/PythonProjects/AgroGPT/RagChatBot/venv/lib/python3.9/site-packages (from stack-data->ipython>=6.1.0->ipywidgets) (3.0.0)\n",
      "Requirement already satisfied: pure-eval in /Users/davronbekdev/Desktop/Dasturlash/PythonProjects/AgroGPT/RagChatBot/venv/lib/python3.9/site-packages (from stack-data->ipython>=6.1.0->ipywidgets) (0.2.3)\n",
      "Installing collected packages: deep-translator\n",
      "Successfully installed deep-translator-1.11.4\n",
      "\u001b[33mWARNING: You are using pip version 21.2.4; however, version 25.1.1 is available.\n",
      "You should consider upgrading via the '/Users/davronbekdev/Desktop/Dasturlash/PythonProjects/AgroGPT/RagChatBot/venv/bin/python -m pip install --upgrade pip' command.\u001b[0m\n",
      "Note: you may need to restart the kernel to use updated packages.\n"
     ]
    }
   ],
   "source": [
    "%pip install langchain openai faiss-cpu tiktoken sentence-transformers PyMuPDF ipywidgets deep-translator"
   ]
  },
  {
   "cell_type": "code",
   "execution_count": 81,
   "id": "b2baf2cc",
   "metadata": {},
   "outputs": [
    {
     "name": "stderr",
     "output_type": "stream",
     "text": [
      "huggingface/tokenizers: The current process just got forked, after parallelism has already been used. Disabling parallelism to avoid deadlocks...\n",
      "To disable this warning, you can either:\n",
      "\t- Avoid using `tokenizers` before the fork if possible\n",
      "\t- Explicitly set the environment variable TOKENIZERS_PARALLELISM=(true | false)\n"
     ]
    },
    {
     "name": "stdout",
     "output_type": "stream",
     "text": [
      "Note: you may need to restart the kernel to use updated packages.\n"
     ]
    }
   ],
   "source": [
    "%pip freeze > requirements.txt"
   ]
  },
  {
   "cell_type": "markdown",
   "id": "d76f5d5e",
   "metadata": {},
   "source": [
    "# PDF faylni yuklab, hujjatni chunklash"
   ]
  },
  {
   "cell_type": "code",
   "execution_count": null,
   "id": "886d2c98",
   "metadata": {},
   "outputs": [
    {
     "name": "stdout",
     "output_type": "stream",
     "text": [
      "319 ta sahifa yuklandi.\n",
      "JO N A V A R R O\n",
      "SIZ\n",
      "NIMANI 0‘YLASANGIZ\n",
      "MEN\n",
      "0‘SHANI KO'RAMAN\n",
      "\n"
     ]
    }
   ],
   "source": [
    "# 2.1 PDF faylni yuklash va matnga aylantirish\n",
    "from langchain.document_loaders import PyMuPDFLoader\n",
    "\n",
    "# PDF fayl nomi\n",
    "pdf_path = \"data/book_1.pdf\"\n",
    "\n",
    "# Hujjatni yuklash\n",
    "loader = PyMuPDFLoader(pdf_path)\n",
    "documents = loader.load()\n",
    "\n",
    "print(f\"{len(documents)} ta sahifa yuklandi.\")\n",
    "print(documents[0].page_content[:300])  # 1-sahifadan parchani chiqaramiz\n"
   ]
  },
  {
   "cell_type": "code",
   "execution_count": 83,
   "id": "a8a62cff",
   "metadata": {},
   "outputs": [
    {
     "name": "stdout",
     "output_type": "stream",
     "text": [
      "1132 ta chunk tayyor bo‘ldi.\n"
     ]
    }
   ],
   "source": [
    "# 2.2 Chunklash (matnni bo‘laklarga ajratish)\n",
    "from langchain.text_splitter import RecursiveCharacterTextSplitter\n",
    "\n",
    "# Chunking parametrlar\n",
    "text_splitter = RecursiveCharacterTextSplitter(\n",
    "    chunk_size=500,\n",
    "    chunk_overlap=100,\n",
    ")\n",
    "\n",
    "chunks = text_splitter.split_documents(documents)\n",
    "print(f\"{len(chunks)} ta chunk tayyor bo‘ldi.\")\n"
   ]
  },
  {
   "cell_type": "markdown",
   "id": "56e05344",
   "metadata": {},
   "source": [
    "# Embedding + FAISS Index yaratish"
   ]
  },
  {
   "cell_type": "code",
   "execution_count": 84,
   "id": "0af975a9",
   "metadata": {},
   "outputs": [],
   "source": [
    "# 3.1 Embedding modelini chaqirish\n",
    "from langchain.embeddings import HuggingFaceEmbeddings\n",
    "\n",
    "# Embedding modeli\n",
    "embedding_model = HuggingFaceEmbeddings(\n",
    "    # model_name=\"intfloat/multilingual-e5-small\"\n",
    "    model_name=\"sentence-transformers/paraphrase-multilingual-MiniLM-L12-v2\" \n",
    ") #or sentence-transformers/paraphrase-multilingual-MiniLM-L12-v2\n",
    "\n",
    "# --------------- Ollama Embeddings ----------------\n",
    "# Agar Ollama embeddings ishlatmoqchi bo'lsangiz, quyidagi kodni\n",
    "# faqat Ollama o'rnatilgan bo'lsa ishlating:\n",
    "# from langchain_community.embeddings import OllamaEmbeddings\n",
    "# embedding_model = OllamaEmbeddings(model=\"nomic-embed-text\")\n",
    "\n"
   ]
  },
  {
   "cell_type": "code",
   "execution_count": 85,
   "id": "3d45c60f",
   "metadata": {},
   "outputs": [],
   "source": [
    "# 3.2 FAISS bazaga joylash\n",
    "from langchain.vectorstores import FAISS\n",
    "\n",
    "# FAISS vektor bazasini yaratish\n",
    "vector_db = FAISS.from_documents(chunks, embedding_model)\n",
    "\n",
    "# Localga saqlash (keyingi bosqichda foydalanamiz)\n",
    "vector_db.save_local(\"faiss_index\")\n"
   ]
  },
  {
   "cell_type": "markdown",
   "id": "770bcc8b",
   "metadata": {},
   "source": [
    "# Retrieverni sozlash va LLM bilan birlashtirish"
   ]
  },
  {
   "cell_type": "code",
   "execution_count": 86,
   "id": "da4c7e6f",
   "metadata": {},
   "outputs": [],
   "source": [
    "# 4.1 FAISS index’ni yuklash\n",
    "\n",
    "from langchain.vectorstores import FAISS\n",
    "\n",
    "# Oldin saqlangan bazani yuklaymiz\n",
    "vector_db = FAISS.load_local(\"faiss_index\", embedding_model)\n",
    "\n",
    "# Retriever obyektini yasaymiz\n",
    "retriever = vector_db.as_retriever(\n",
    "    search_type=\"similarity\",\n",
    "    search_kwargs={\"k\": 6}\n",
    ")\n"
   ]
  },
  {
   "cell_type": "code",
   "execution_count": null,
   "id": "1c08ac06",
   "metadata": {},
   "outputs": [],
   "source": [
    "# 4.2 OpenAI LLM modelini sozlash\n",
    "\n",
    "# from langchain.llms import OpenAI\n",
    "\n",
    "# import os\n",
    "\n",
    "# # OpenAI API key\n",
    "# os.environ[\"OPENAI_API_KEY\"] = \"sk-proj-***\"  # <-- bu yerga o‘zingizning API key’ingizni qo‘ying. (pullik)\n",
    "\n",
    "# # LLM ni ishga tushuramiz (GPT-3.5)\n",
    "# llm = OpenAI(model_name=\"gpt-3.5-turbo\", temperature=0)\n",
    "\n",
    "\n",
    "# -------------------- Agar Ollama ishlatmoqchi bo'lsangiz --------------------\n",
    "# Ollama modelini yuklab olish\n",
    "# ollama run llama3 or (mistral)\n",
    "\n",
    "from langchain_community.llms import Ollama\n",
    "\n",
    "llm = Ollama(model=\"llama3\")\n",
    "\n"
   ]
  },
  {
   "cell_type": "code",
   "execution_count": 96,
   "id": "ded6e37e",
   "metadata": {},
   "outputs": [],
   "source": [
    "# Custom Prompt\n",
    "from langchain.prompts import PromptTemplate\n",
    "\n",
    "template=\"\"\"\n",
    "You are an intelligent AI assistant helping a user who speaks English.\n",
    "The user will ask you a question, and you should provide a clear, concise, and reliable answer based on the following context.\n",
    "Answer the question based only on the context below.\n",
    "If the answer is not in the context, say \"I don't know.\"\n",
    "\n",
    "📚 Context:\n",
    "{context}\n",
    "\n",
    "❓ Question: {question}\n",
    "\n",
    "🤖 Answer:\n",
    "\"\"\"\n",
    "\n",
    "custom_prompt = PromptTemplate(\n",
    "    input_variables=[\"context\", \"question\"],\n",
    "    template=template\n",
    ")"
   ]
  },
  {
   "cell_type": "code",
   "execution_count": 97,
   "id": "7d43ec88",
   "metadata": {},
   "outputs": [],
   "source": [
    "# CombineDocumentsChain ichida ishlat\n",
    "\n",
    "from langchain.chains import LLMChain\n",
    "from langchain.chains.combine_documents.stuff import StuffDocumentsChain\n",
    "\n",
    "qa_prompt_chain = LLMChain(llm=llm, prompt=custom_prompt)\n",
    "\n",
    "combine_docs_chain = StuffDocumentsChain(\n",
    "    llm_chain=qa_prompt_chain,\n",
    "    document_variable_name=\"context\"\n",
    ")"
   ]
  },
  {
   "cell_type": "code",
   "execution_count": 98,
   "id": "c815ab2a",
   "metadata": {},
   "outputs": [],
   "source": [
    "# 4.3 RAG chain yaratamiz\n",
    "from langchain.chains import RetrievalQA\n",
    "\n",
    "# qa_chain = RetrievalQA.from_chain_type(\n",
    "#     llm=llm,\n",
    "#     retriever=retriever,\n",
    "#     return_source_documents=True\n",
    "# )\n",
    "\n",
    "qa_chain = RetrievalQA(\n",
    "    retriever=retriever,\n",
    "    combine_documents_chain=combine_docs_chain,\n",
    "    return_source_documents=True\n",
    ")\n",
    "\n"
   ]
  },
  {
   "cell_type": "code",
   "execution_count": 99,
   "id": "8b822603",
   "metadata": {},
   "outputs": [],
   "source": [
    "# Translator\n",
    "from deep_translator import GoogleTranslator\n",
    "\n",
    "def translate_text(txt_input, source='uz', target='en'):\n",
    "    \"\"\"\n",
    "    Translate text from Uzbek to English.\n",
    "    \"\"\"\n",
    "    input_english = GoogleTranslator(source=source, target=target).translate(txt_input)\n",
    "    return input_english\n"
   ]
  },
  {
   "cell_type": "code",
   "execution_count": null,
   "id": "25f76dcb",
   "metadata": {},
   "outputs": [
    {
     "name": "stdout",
     "output_type": "stream",
     "text": [
      "❓ Savol: Qanday yolg‘onni aniqlash mumkin?\n",
      "🔄 Ingliz tiliga tarjima: What lies can be determined?\n",
      "--------------------------------------------------\n",
      "🤖 Javob o'zbek tilida:\n",
      "\n",
      " Taqdim etilgan kontekst asosida, matn yolg'on va yolg'onni aniqlash usullarini muhokama qilmoqda. Muallif kimningdir haqiqatni aytayotgan yoki yo'qligini aniqlashga urinayotganda noilojma inshootlari va xatti-harakatlariga e'tibor berish muhimligini ta'kidlaydi.\n",
      "\n",
      "Shu nuqtai nazardan, sizning savolingizga javob: \"Yolgun Fosh Qiluvchi Savollar Berish Kerak\" deb tarjima qilinadi, bu \"siz yolg'onni ochib beradigan savollarni berishingiz kerak\" deb tarjima qilinadi.\n",
      "\n",
      "📖 Manbalar:\n",
      "Fayl: data/book_2.pdf\n",
      "Sahifa: 63\n",
      "Matn:\n",
      " qilish yoki aytilmay yashirishga harakat qilinayotgan \n",
      "xabami aniqlashda yordam beradi.\n",
      "Mening fikrimcha, haqqoniy ma’lumot olishga uri- \n",
      "nishdan ko‘ra, tinchlantiruvchi harakatni kuzatish ter-\n",
      "------\n",
      "Fayl: data/book_2.pdf\n",
      "Sahifa: 288\n",
      "Matn:\n",
      " kuzatish kerak.\n",
      "Yolg‘onni fosh qiluvchi savollar berish kerak. Bundan \n",
      "tashqari, imkoni boricha noverbal xabarlami ko‘proq \n",
      "yig‘ishingiz kerak. Siz qancha atvor bog‘lanishlarini topa \n",
      "olsangiz, kuzatishingiz natijasida shuncha ishonch komil\n",
      "------\n",
      "Fayl: data/book_2.pdf\n",
      "Sahifa: 35\n",
      "Matn:\n",
      " uchun nimaga e’tibor qilish zarurligini anglab yetasiz. \n",
      "Bundan foydalanib, oila a’zolaringiz, sevimli inson, hat­\n",
      "to begona kishini ham oldindan o‘qiy olishingiz mumkin \n",
      "bo‘ladi. Bundan tashqari, noverbal atvoming fiziologi \n",
      "asosi nima ekanligi, unda miyaning roli haqida batafsil \n",
      "so‘zlayman. Qolaversa, yolg‘onni aniqlash usuli haqi­\n",
      "da, -  buni hali FTBning birorta taftish tizimi xodimlari \n",
      "qilgan emas, -  axborot beraman. Men qattiq ishonaman-\n",
      "------\n",
      "Fayl: data/book_2.pdf\n",
      "Sahifa: 8\n",
      "Matn:\n",
      " s\n",
      "tana tili yolg'onini aniqlashda ehtiyot bo‘lish lozimligini \n",
      "ta’kidlab o‘tdi. Bunday belgilarga e’tiborsiz qaraydigan- \n",
      "lar, odatda, bilim, tajribasi kam yoki huquq-tartibot xo- \n",
      "dimlari ichida ko‘p uchraydi. Insonni noverbal belgila- \n",
      "riga qarab, рок у о порок ekanini aniqlashda o‘ta ehtiyot \n",
      "bo‘lish lozim ekanini uqtirdi.\n",
      "Noverbal aloqalar haqidagi taxminiy va shaxsiy ma’- \n",
      "lumotlarga suyanib yozilgan boshqa asarlardan farqli \n",
      "ushbu kitob faqat nazariy fikr va tajribada isbotlangan\n",
      "------\n",
      "Fayl: data/book_2.pdf\n",
      "Sahifa: 278\n",
      "Matn:\n",
      " chiqarishga juda ehtiyot bo‘lish kerak, insonning boshqa \n",
      "a’zolaridagi noverbal ishoralariga suyangan holda xulosa \n",
      "chiqarish lozim.\n",
      "Bundan tashqari, yuzda qulaylik-noqulaylik ifodasi­\n",
      "ni ajratish mushkul. Shu kabi bir necha holatlar mavjud. \n",
      "Agar siz yuz ifodasi nima bildirishiga shubha qilsangiz,\n",
      "------\n",
      "Fayl: data/book_2.pdf\n",
      "Sahifa: 308\n",
      "Matn:\n",
      " qisib, qarashlar kiradi. Ifodaviylikni kuchaytirishning \n",
      "yana bir ko‘rinishi qiziqishni ifodalovchi gavdani oldin- \n",
      "ga bukishdir. Agar gapning qaysidir qismi ahamiyati,\n",
      "308\n",
      "------\n"
     ]
    }
   ],
   "source": [
    "# Savol berish va javob olish\n",
    "input_uzbek = \"Qanday yolg‘onni aniqlash mumkin?\"\n",
    "print(\"❓ Savol:\", input_uzbek)\n",
    "\n",
    "input_english = translate_text(input_uzbek)\n",
    "print(\"🔄 Ingliz tiliga tarjima:\", input_english)\n",
    "\n",
    "# Javob olish\n",
    "result = qa_chain.invoke({\"query\": input_english})\n",
    "\n",
    "output_english = result[\"result\"]\n",
    "# print(\"🔄 Javob ingliz tilida:\", output_english)\n",
    "print(\"-\"*50)\n",
    "output_uzbek = translate_text(output_english, source='en', target='uz')\n",
    "print(\"🤖 Javob o'zbek tilida:\\n\", output_uzbek)\n",
    "\n",
    "print(\"\\n📖 Manbalar:\")\n",
    "for doc in result[\"source_documents\"]:\n",
    "    print(\"Fayl:\", doc.metadata[\"source\"])\n",
    "    print(\"Sahifa:\", doc.metadata.get(\"page\", \"Noma’lum\"))\n",
    "    print(\"Matn:\\n\", doc.page_content)\n",
    "    print(\"------\")\n"
   ]
  }
 ],
 "metadata": {
  "kernelspec": {
   "display_name": "venv",
   "language": "python",
   "name": "python3"
  },
  "language_info": {
   "codemirror_mode": {
    "name": "ipython",
    "version": 3
   },
   "file_extension": ".py",
   "mimetype": "text/x-python",
   "name": "python",
   "nbconvert_exporter": "python",
   "pygments_lexer": "ipython3",
   "version": "3.9.6"
  }
 },
 "nbformat": 4,
 "nbformat_minor": 5
}
